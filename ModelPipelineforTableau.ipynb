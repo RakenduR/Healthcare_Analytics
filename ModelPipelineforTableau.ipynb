{
 "cells": [
  {
   "cell_type": "code",
   "execution_count": 2,
   "id": "a1c6c5f2",
   "metadata": {},
   "outputs": [],
   "source": [
    "import pandas as pd\n",
    "import os\n",
    "import numpy as np\n",
    "from sklearn.preprocessing import StandardScaler\n",
    "from sklearn.ensemble import RandomForestClassifier\n",
    "from sklearn.compose import ColumnTransformer\n",
    "from sklearn.pipeline import Pipeline\n",
    "from dataset_path import output_path\n",
    "path = output_path"
   ]
  },
  {
   "cell_type": "code",
   "execution_count": 3,
   "id": "caf818cd",
   "metadata": {},
   "outputs": [],
   "source": [
    "df = pd.read_csv('df_master_3.csv')"
   ]
  },
  {
   "cell_type": "code",
   "execution_count": 4,
   "id": "5f7fe960",
   "metadata": {},
   "outputs": [],
   "source": [
    "df.rename(columns={'race_recoded': 'race', 'triage_temperature_recoded_2': 'triage_temperature','triage_heartrate_recoded': 'triage_heartrate',\n",
    "                  'triage_resprate_recoded': 'triage_resprate','triage_o2sat_recoded': 'triage_o2sat','triage_sbp_recoded': 'triage_sbp',\n",
    "                  'triage_dbp_recoded': 'triage_dbp','triage_pain_recoded': 'triage_pain'}, inplace=True)"
   ]
  },
  {
   "cell_type": "code",
   "execution_count": 5,
   "id": "cb18f075",
   "metadata": {},
   "outputs": [],
   "source": [
    "variable_selected = ['age','MAP','triage_acuity','triage_heartrate','triage_temperature','triage_resprate','triage_o2sat','n_ed_365d']\n",
    "outcome = \"outcome_hospitalization\"\n"
   ]
  },
  {
   "cell_type": "code",
   "execution_count": 6,
   "id": "7f068ba4",
   "metadata": {},
   "outputs": [
    {
     "data": {
      "text/html": [
       "<div>\n",
       "<style scoped>\n",
       "    .dataframe tbody tr th:only-of-type {\n",
       "        vertical-align: middle;\n",
       "    }\n",
       "\n",
       "    .dataframe tbody tr th {\n",
       "        vertical-align: top;\n",
       "    }\n",
       "\n",
       "    .dataframe thead th {\n",
       "        text-align: right;\n",
       "    }\n",
       "</style>\n",
       "<table border=\"1\" class=\"dataframe\">\n",
       "  <thead>\n",
       "    <tr style=\"text-align: right;\">\n",
       "      <th></th>\n",
       "      <th>age</th>\n",
       "      <th>MAP</th>\n",
       "      <th>triage_acuity</th>\n",
       "      <th>triage_heartrate</th>\n",
       "      <th>triage_temperature</th>\n",
       "      <th>triage_resprate</th>\n",
       "      <th>triage_o2sat</th>\n",
       "      <th>n_ed_365d</th>\n",
       "    </tr>\n",
       "  </thead>\n",
       "  <tbody>\n",
       "    <tr>\n",
       "      <th>count</th>\n",
       "      <td>427795.000000</td>\n",
       "      <td>427795.000000</td>\n",
       "      <td>427795.000000</td>\n",
       "      <td>427795.000000</td>\n",
       "      <td>427795.000000</td>\n",
       "      <td>427795.000000</td>\n",
       "      <td>427795.000000</td>\n",
       "      <td>427795.000000</td>\n",
       "    </tr>\n",
       "    <tr>\n",
       "      <th>mean</th>\n",
       "      <td>52.657948</td>\n",
       "      <td>96.705046</td>\n",
       "      <td>2.655947</td>\n",
       "      <td>85.037257</td>\n",
       "      <td>98.030727</td>\n",
       "      <td>17.542716</td>\n",
       "      <td>98.391490</td>\n",
       "      <td>1.388490</td>\n",
       "    </tr>\n",
       "    <tr>\n",
       "      <th>std</th>\n",
       "      <td>20.575198</td>\n",
       "      <td>15.194541</td>\n",
       "      <td>0.681211</td>\n",
       "      <td>17.579817</td>\n",
       "      <td>1.841058</td>\n",
       "      <td>2.314970</td>\n",
       "      <td>2.088451</td>\n",
       "      <td>4.105288</td>\n",
       "    </tr>\n",
       "    <tr>\n",
       "      <th>min</th>\n",
       "      <td>18.000000</td>\n",
       "      <td>30.000000</td>\n",
       "      <td>1.000000</td>\n",
       "      <td>30.000000</td>\n",
       "      <td>53.200000</td>\n",
       "      <td>10.000000</td>\n",
       "      <td>60.000000</td>\n",
       "      <td>0.000000</td>\n",
       "    </tr>\n",
       "    <tr>\n",
       "      <th>25%</th>\n",
       "      <td>34.000000</td>\n",
       "      <td>86.666667</td>\n",
       "      <td>2.000000</td>\n",
       "      <td>72.000000</td>\n",
       "      <td>97.600000</td>\n",
       "      <td>16.000000</td>\n",
       "      <td>97.000000</td>\n",
       "      <td>0.000000</td>\n",
       "    </tr>\n",
       "    <tr>\n",
       "      <th>50%</th>\n",
       "      <td>53.000000</td>\n",
       "      <td>96.000000</td>\n",
       "      <td>3.000000</td>\n",
       "      <td>84.000000</td>\n",
       "      <td>98.000000</td>\n",
       "      <td>18.000000</td>\n",
       "      <td>99.000000</td>\n",
       "      <td>0.000000</td>\n",
       "    </tr>\n",
       "    <tr>\n",
       "      <th>75%</th>\n",
       "      <td>68.000000</td>\n",
       "      <td>106.000000</td>\n",
       "      <td>3.000000</td>\n",
       "      <td>96.000000</td>\n",
       "      <td>98.500000</td>\n",
       "      <td>18.000000</td>\n",
       "      <td>100.000000</td>\n",
       "      <td>1.000000</td>\n",
       "    </tr>\n",
       "    <tr>\n",
       "      <th>max</th>\n",
       "      <td>103.000000</td>\n",
       "      <td>215.000000</td>\n",
       "      <td>5.000000</td>\n",
       "      <td>250.000000</td>\n",
       "      <td>108.140000</td>\n",
       "      <td>60.000000</td>\n",
       "      <td>100.000000</td>\n",
       "      <td>108.000000</td>\n",
       "    </tr>\n",
       "  </tbody>\n",
       "</table>\n",
       "</div>"
      ],
      "text/plain": [
       "                 age            MAP  triage_acuity  triage_heartrate  \\\n",
       "count  427795.000000  427795.000000  427795.000000     427795.000000   \n",
       "mean       52.657948      96.705046       2.655947         85.037257   \n",
       "std        20.575198      15.194541       0.681211         17.579817   \n",
       "min        18.000000      30.000000       1.000000         30.000000   \n",
       "25%        34.000000      86.666667       2.000000         72.000000   \n",
       "50%        53.000000      96.000000       3.000000         84.000000   \n",
       "75%        68.000000     106.000000       3.000000         96.000000   \n",
       "max       103.000000     215.000000       5.000000        250.000000   \n",
       "\n",
       "       triage_temperature  triage_resprate   triage_o2sat      n_ed_365d  \n",
       "count       427795.000000    427795.000000  427795.000000  427795.000000  \n",
       "mean            98.030727        17.542716      98.391490       1.388490  \n",
       "std              1.841058         2.314970       2.088451       4.105288  \n",
       "min             53.200000        10.000000      60.000000       0.000000  \n",
       "25%             97.600000        16.000000      97.000000       0.000000  \n",
       "50%             98.000000        18.000000      99.000000       0.000000  \n",
       "75%             98.500000        18.000000     100.000000       1.000000  \n",
       "max            108.140000        60.000000     100.000000     108.000000  "
      ]
     },
     "execution_count": 6,
     "metadata": {},
     "output_type": "execute_result"
    }
   ],
   "source": [
    "df[variable_selected].describe()"
   ]
  },
  {
   "cell_type": "code",
   "execution_count": 7,
   "id": "c385bbf6",
   "metadata": {},
   "outputs": [],
   "source": [
    "X_train = df[variable_selected].copy()\n",
    "Y_train = df[outcome].copy()\n",
    "\n"
   ]
  },
  {
   "cell_type": "code",
   "execution_count": 18,
   "id": "78aae76e",
   "metadata": {},
   "outputs": [],
   "source": [
    "df[variable_selected+ [outcome]].to_csv(os.path.join(path, 'data.csv'), index=False)"
   ]
  },
  {
   "cell_type": "code",
   "execution_count": 19,
   "id": "42129288",
   "metadata": {},
   "outputs": [
    {
     "data": {
      "text/plain": [
       "ColumnTransformer(remainder='passthrough',\n",
       "                  transformers=[('scale_data',\n",
       "                                 Pipeline(steps=[('scaler', StandardScaler())]),\n",
       "                                 ['age', 'MAP', 'triage_acuity',\n",
       "                                  'triage_heartrate', 'triage_temperature',\n",
       "                                  'triage_resprate', 'triage_o2sat',\n",
       "                                  'n_ed_365d'])])"
      ]
     },
     "execution_count": 19,
     "metadata": {},
     "output_type": "execute_result"
    }
   ],
   "source": [
    "numeric_transformer = Pipeline(steps=[('scaler', StandardScaler())])\n",
    "pre_process = ColumnTransformer(remainder ='passthrough',\n",
    "                               transformers =[('scale_data', numeric_transformer,variable_selected)])\n",
    "pre_process.fit(X_train)"
   ]
  },
  {
   "cell_type": "code",
   "execution_count": 20,
   "id": "b3371637",
   "metadata": {},
   "outputs": [],
   "source": [
    "rf= RandomForestClassifier()\n",
    "\n",
    "model = rf.fit(pre_process.transform(X_train),Y_train)"
   ]
  },
  {
   "cell_type": "code",
   "execution_count": 21,
   "id": "c5c4a4dc",
   "metadata": {},
   "outputs": [],
   "source": [
    "import pickle\n",
    "# Save the model to disk\n",
    "filename = './hosptab/rf.sav'\n",
    "pickle.dump(model, open(filename, 'wb'))\n",
    "\n",
    "# Save the pipeline to disk\n",
    "filename = './hosptab/pre_process.sav'\n",
    "pickle.dump(pre_process, open(filename, 'wb'))"
   ]
  },
  {
   "cell_type": "code",
   "execution_count": 22,
   "id": "ac8a3da3",
   "metadata": {},
   "outputs": [],
   "source": [
    "def Hospitalization_Prediction(_arg1, _arg2, _arg3, _arg4, _arg5, _arg6, _arg7, _arg8):\n",
    "\n",
    "    input_data = np.column_stack([_arg1, _arg2, _arg3, _arg4, _arg5, _arg6, _arg7, _arg8])\n",
    "    X = pd.DataFrame(input_data,columns=['age','MAP','triage_acuity','triage_heartrate','triage_temperature','triage_resprate','triage_o2sat','n_ed_365d'])\n",
    "    result = model.predict_proba(pre_process.transform(X))\n",
    "    return [probability[1] for probability in result]"
   ]
  },
  {
   "cell_type": "code",
   "execution_count": 13,
   "id": "b55c1078",
   "metadata": {},
   "outputs": [],
   "source": [
    "from tabpy.tabpy_tools.client import Client\n",
    "client = Client('http://localhost:9004/')"
   ]
  },
  {
   "cell_type": "code",
   "execution_count": 23,
   "id": "d20c5e2d",
   "metadata": {},
   "outputs": [],
   "source": [
    "\n",
    "client.deploy('Hospitalization_Prediction',\n",
    "Hospitalization_Prediction,\n",
    "'Returns prediction of probability of Hospitalization.',override=True)"
   ]
  },
  {
   "cell_type": "code",
   "execution_count": 24,
   "id": "e7b1e8d0",
   "metadata": {},
   "outputs": [
    {
     "data": {
      "text/plain": [
       "[0.37]"
      ]
     },
     "execution_count": 24,
     "metadata": {},
     "output_type": "execute_result"
    }
   ],
   "source": [
    "Hospitalization_Prediction(35,93.33,3,80,98,31,100,1)\n"
   ]
  },
  {
   "cell_type": "code",
   "execution_count": 136,
   "id": "0397dea9",
   "metadata": {},
   "outputs": [
    {
     "data": {
      "text/plain": [
       "[0.84, 0.6]"
      ]
     },
     "execution_count": 136,
     "metadata": {},
     "output_type": "execute_result"
    }
   ],
   "source": [
    "Hospitalization_Prediction([52,25], [77.33,67],[3,2],[70,78],[98.4,104],[16,10],[97,99],[0,2])"
   ]
  },
  {
   "cell_type": "code",
   "execution_count": 9,
   "id": "6c0df478",
   "metadata": {},
   "outputs": [],
   "source": [
    "import tabpy_client"
   ]
  },
  {
   "cell_type": "code",
   "execution_count": 10,
   "id": "73bb297f",
   "metadata": {},
   "outputs": [],
   "source": [
    "# Connect to TabPy server using the client library\n",
    "connection = tabpy_client.Client('http://localhost:9004/')"
   ]
  },
  {
   "cell_type": "code",
   "execution_count": 11,
   "id": "4189e39e",
   "metadata": {},
   "outputs": [
    {
     "ename": "NameError",
     "evalue": "name 'Hospitalization_Prediction' is not defined",
     "output_type": "error",
     "traceback": [
      "\u001b[1;31m---------------------------------------------------------------------------\u001b[0m",
      "\u001b[1;31mNameError\u001b[0m                                 Traceback (most recent call last)",
      "\u001b[1;32m<ipython-input-11-d0efb2359427>\u001b[0m in \u001b[0;36m<module>\u001b[1;34m\u001b[0m\n\u001b[0;32m      1\u001b[0m connection.deploy('Hospitalization_Prediction',\n\u001b[1;32m----> 2\u001b[1;33m \u001b[0mHospitalization_Prediction\u001b[0m\u001b[1;33m,\u001b[0m\u001b[1;33m\u001b[0m\u001b[1;33m\u001b[0m\u001b[0m\n\u001b[0m\u001b[0;32m      3\u001b[0m 'Returns prediction of probability of Hospitalization.',override = True)\n",
      "\u001b[1;31mNameError\u001b[0m: name 'Hospitalization_Prediction' is not defined"
     ]
    }
   ],
   "source": [
    "connection.deploy('Hospitalization_Prediction',\n",
    "Hospitalization_Prediction,\n",
    "'Returns prediction of probability of Hospitalization.',override = True)"
   ]
  },
  {
   "cell_type": "code",
   "execution_count": 15,
   "id": "3c33ba20",
   "metadata": {},
   "outputs": [],
   "source": [
    "client.remove('DiagnosticsDemo')"
   ]
  },
  {
   "cell_type": "code",
   "execution_count": null,
   "id": "8196792c",
   "metadata": {},
   "outputs": [],
   "source": []
  }
 ],
 "metadata": {
  "kernelspec": {
   "display_name": "Python 3 (ipykernel)",
   "language": "python",
   "name": "python3"
  },
  "language_info": {
   "codemirror_mode": {
    "name": "ipython",
    "version": 3
   },
   "file_extension": ".py",
   "mimetype": "text/x-python",
   "name": "python",
   "nbconvert_exporter": "python",
   "pygments_lexer": "ipython3",
   "version": "3.8.8"
  }
 },
 "nbformat": 4,
 "nbformat_minor": 5
}
